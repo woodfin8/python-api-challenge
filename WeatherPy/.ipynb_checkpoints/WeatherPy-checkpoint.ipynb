{
 "cells": [
  {
   "cell_type": "markdown",
   "metadata": {},
   "source": [
    "# WeatherPy\n",
    "----\n",
    "\n",
    "#### Note\n",
    "* Instructions have been included for each segment. You do not have to follow them exactly, but they are included to help you think through the steps."
   ]
  },
  {
   "cell_type": "code",
   "execution_count": 76,
   "metadata": {
    "scrolled": true
   },
   "outputs": [],
   "source": [
    "\n",
    "# Dependencies and Setup\n",
    "import matplotlib.pyplot as plt\n",
    "import pandas as pd\n",
    "import numpy as np\n",
    "import requests\n",
    "import time\n",
    "import json\n",
    "from scipy.stats import linregress\n",
    "from scipy import stats\n",
    "\n",
    "# Import API key\n",
    "from api_keys import weather_api_key\n",
    "\n",
    "# Incorporated citipy to determine city based on latitude and longitude\n",
    "from citipy import citipy\n",
    "\n",
    "# Output File (CSV)\n",
    "output_data_file = \"output_data/cities.csv\"\n",
    "\n",
    "# Range of latitudes and longitudes\n",
    "lat_range = (-90, 90)\n",
    "lng_range = (-180, 180)"
   ]
  },
  {
   "cell_type": "markdown",
   "metadata": {},
   "source": [
    "## Generate Cities List"
   ]
  },
  {
   "cell_type": "code",
   "execution_count": 30,
   "metadata": {},
   "outputs": [
    {
     "data": {
      "text/plain": [
       "615"
      ]
     },
     "execution_count": 30,
     "metadata": {},
     "output_type": "execute_result"
    }
   ],
   "source": [
    "# List for holding lat_lngs and cities\n",
    "lat_lngs = []\n",
    "cities = []\n",
    "\n",
    "# Create a set of random lat and lng combinations\n",
    "lats = np.random.uniform(low=-90.000, high=90.000, size=1500)\n",
    "lngs = np.random.uniform(low=-180.000, high=180.000, size=1500)\n",
    "lat_lngs = zip(lats, lngs)\n",
    "\n",
    "# Identify nearest city for each lat, lng combination\n",
    "for lat_lng in lat_lngs:\n",
    "    city = citipy.nearest_city(lat_lng[0], lat_lng[1]).city_name\n",
    "    \n",
    "    # If the city is unique, then add it to a our cities list\n",
    "    if city not in cities:\n",
    "        cities.append(city)\n",
    "\n",
    "# Print the city count to confirm sufficient count\n",
    "len(cities)"
   ]
  },
  {
   "cell_type": "code",
   "execution_count": null,
   "metadata": {},
   "outputs": [],
   "source": [
    "url = \"http://api.openweathermap.org/data/2.5/weather?\"\n",
    "units = \"imperial\"\n",
    "#print(url + \"appid=\"+weather_api_key + \"&units=\" + units + \"&q=\" + \"Dallas\")\n",
    "test_response = requests.get(url + \"appid=\" + weather_api_key + \"&units=\" + units + \"&q=\" + \"Dallas\").json()\n",
    "print(json.dumps(test_response, indent=4, sort_keys=True))\n",
    "\n"
   ]
  },
  {
   "cell_type": "code",
   "execution_count": null,
   "metadata": {},
   "outputs": [],
   "source": [
    "print(f\"check{weather_api_key}\") "
   ]
  },
  {
   "cell_type": "markdown",
   "metadata": {},
   "source": [
    "### Perform API Calls\n",
    "* Perform a weather check on each city using a series of successive API calls.\n",
    "* Include a print log of each city as it'sbeing processed (with the city number and city name).\n"
   ]
  },
  {
   "cell_type": "code",
   "execution_count": 44,
   "metadata": {},
   "outputs": [
    {
     "name": "stdout",
     "output_type": "stream",
     "text": [
      "Beginning Data Retrieval\n",
      "---------------------------\n",
      "Processing record 1 of Set 1 | bluff\n",
      "Processing record 2 of Set 1 | dikson\n",
      "Processing record 3 of Set 1 | rikitea\n",
      "Processing record 4 of Set 1 | ewa beach\n",
      "Processing record 5 of Set 1 | emerald\n",
      "Processing record 6 of Set 1 | punta arenas\n",
      "Processing record 7 of Set 1 | thompson\n",
      "Processing record 8 of Set 1 | arkhangelsk\n",
      "Processing record 9 of Set 1 | dingle\n",
      "Processing record 10 of Set 1 | qaanaaq\n",
      "Processing record 11 of Set 1 | albany\n",
      "Processing record 12 of Set 1 | new norfolk\n",
      "Processing record 13 of Set 1 | mataura\n",
      "Processing record 14 of Set 1 | kruisfontein\n",
      "Processing record 15 of Set 1 | samarai\n",
      "Processing record 16 of Set 1 | aneho\n",
      "Processing record 17 of Set 1 | gladstone\n",
      "Processing record 18 of Set 1 | karratha\n",
      "Processing record 19 of Set 1 | lebu\n",
      "Processing record 20 of Set 1 | bluefields\n",
      "Processing record 21 of Set 1 | constitucion\n",
      "Processing record 22 of Set 1 | fairbanks\n",
      "Processing record 23 of Set 1 | jamestown\n",
      "Processing record 24 of Set 1 | east london\n",
      "Processing record 25 of Set 1 | pevek\n",
      "Processing record 26 of Set 1 | port lincoln\n",
      "Processing record 27 of Set 1 | correntina\n",
      "Processing record 28 of Set 1 | alofi\n",
      "Processing record 29 of Set 1 | arraial do cabo\n",
      "Processing record 30 of Set 1 | saint-philippe\n",
      "Processing record 31 of Set 1 | atuona\n",
      "Processing record 32 of Set 1 | tuatapere\n",
      "Processing record 33 of Set 1 | namibe\n",
      "Processing record 34 of Set 1 | codrington\n",
      "Processing record 35 of Set 1 | leningradskiy\n",
      "Processing record 36 of Set 1 | ushuaia\n",
      "Processing record 37 of Set 1 | kapaa\n",
      "Processing record 38 of Set 1 | barrow\n",
      "Processing record 39 of Set 1 | zhigansk\n",
      "Processing record 40 of Set 1 | grindavik\n",
      "Processing record 41 of Set 1 | gorom-gorom\n",
      "Processing record 42 of Set 1 | karaton\n",
      "Processing record 43 of Set 1 | rajgir\n",
      "Processing record 44 of Set 1 | pula\n",
      "Processing record 45 of Set 1 | puerto ayora\n",
      "Processing record 46 of Set 1 | hermanus\n",
      "Processing record 47 of Set 1 | sobolevo\n",
      "Processing record 48 of Set 1 | le port\n",
      "Processing record 49 of Set 1 | saint anthony\n",
      "Processing record 50 of Set 1 | ust-kut\n",
      "Processing record 51 of Set 1 | udachnyy\n",
      "Processing record 52 of Set 1 | nanortalik\n",
      "Processing record 53 of Set 1 | mandiana\n",
      "Processing record 54 of Set 1 | san patricio\n",
      "Processing record 55 of Set 1 | khatanga\n",
      "Processing record 56 of Set 1 | morro bay\n",
      "Processing record 57 of Set 1 | upernavik\n",
      "Processing record 58 of Set 1 | salinopolis\n",
      "Processing record 59 of Set 1 | barcelos\n",
      "Processing record 60 of Set 1 | avarua\n",
      "Processing record 61 of Set 1 | port alfred\n",
      "Processing record 62 of Set 1 | punta alta\n",
      "Processing record 63 of Set 1 | vaini\n",
      "Processing record 64 of Set 1 | gamba\n",
      "Processing record 65 of Set 1 | montepuez\n",
      "Processing record 66 of Set 1 | cuenca\n",
      "Processing record 67 of Set 1 | bystrzyca klodzka\n",
      "Processing record 68 of Set 1 | rocha\n",
      "Processing record 69 of Set 1 | tawang\n",
      "Processing record 70 of Set 1 | busselton\n",
      "Processing record 71 of Set 1 | bathsheba\n",
      "Processing record 72 of Set 1 | westport\n",
      "Processing record 73 of Set 1 | aviles\n",
      "Processing record 74 of Set 1 | mimongo\n",
      "Processing record 75 of Set 1 | mayya\n",
      "Processing record 76 of Set 1 | nikolskoye\n",
      "Processing record 77 of Set 1 | porto novo\n",
      "Processing record 78 of Set 1 | codajas\n",
      "Processing record 79 of Set 1 | tiksi\n",
      "Processing record 80 of Set 1 | mar del plata\n",
      "Processing record 81 of Set 1 | kozhva\n",
      "Processing record 82 of Set 1 | aripuana\n",
      "Processing record 83 of Set 1 | halmstad\n",
      "Processing record 84 of Set 1 | mitu\n",
      "Processing record 85 of Set 1 | camacha\n",
      "Processing record 86 of Set 1 | mahebourg\n",
      "Processing record 87 of Set 1 | tynda\n",
      "Processing record 88 of Set 1 | hilo\n",
      "Processing record 89 of Set 1 | airai\n",
      "Processing record 90 of Set 1 | teguise\n",
      "Processing record 91 of Set 1 | sembakung\n",
      "Processing record 92 of Set 1 | esperance\n",
      "Processing record 93 of Set 1 | katsuura\n",
      "Processing record 94 of Set 1 | visnes\n",
      "Processing record 95 of Set 1 | fountain hills\n",
      "Processing record 96 of Set 1 | te anau\n",
      "Processing record 97 of Set 1 | bilma\n",
      "Processing record 98 of Set 1 | maur\n",
      "Processing record 99 of Set 1 | butaritari\n",
      "Processing record 100 of Set 1 | chokurdakh\n",
      "Processing record 101 of Set 1 | santiago del estero\n",
      "Processing record 102 of Set 1 | kattivakkam\n",
      "Processing record 103 of Set 1 | boppard\n",
      "Processing record 104 of Set 1 | lubumbashi\n",
      "Processing record 105 of Set 1 | bredasdorp\n",
      "Processing record 106 of Set 1 | kloulklubed\n",
      "Processing record 107 of Set 1 | palmer\n",
      "Processing record 108 of Set 1 | kaitangata\n",
      "Processing record 109 of Set 1 | sioux lookout\n",
      "Processing record 110 of Set 1 | guderup\n",
      "Processing record 111 of Set 1 | gotsu\n",
      "Processing record 112 of Set 1 | ponta do sol\n",
      "Processing record 113 of Set 1 | ikalamavony\n",
      "Processing record 114 of Set 1 | cabo san lucas\n",
      "Processing record 115 of Set 1 | hofn\n",
      "Processing record 116 of Set 1 | zafra\n",
      "Processing record 117 of Set 1 | port elizabeth\n",
      "Processing record 118 of Set 1 | bonthe\n",
      "Processing record 119 of Set 1 | hobart\n",
      "Processing record 120 of Set 1 | saskylakh\n",
      "Processing record 121 of Set 1 | darnah\n",
      "Processing record 122 of Set 1 | ilulissat\n",
      "Processing record 123 of Set 1 | taganak\n",
      "Processing record 124 of Set 1 | kirakira\n",
      "Processing record 125 of Set 1 | hasaki\n",
      "Processing record 126 of Set 1 | tautira\n",
      "Processing record 127 of Set 1 | georgetown\n",
      "Processing record 128 of Set 1 | batemans bay\n",
      "Processing record 129 of Set 1 | comodoro rivadavia\n",
      "Processing record 130 of Set 1 | ribeira grande\n",
      "Processing record 131 of Set 1 | torbay\n",
      "Processing record 132 of Set 1 | touros\n",
      "Processing record 133 of Set 1 | eenhana\n",
      "Processing record 134 of Set 1 | saint george\n",
      "Processing record 135 of Set 1 | lieksa\n",
      "Processing record 136 of Set 1 | talnakh\n",
      "Processing record 137 of Set 1 | arcata\n",
      "Processing record 138 of Set 1 | leticia\n",
      "Processing record 139 of Set 1 | kupang\n",
      "Processing record 140 of Set 1 | humboldt\n",
      "Processing record 141 of Set 1 | san jose\n",
      "Processing record 142 of Set 1 | yangliuqing\n",
      "Processing record 143 of Set 1 | grand gaube\n",
      "Processing record 144 of Set 1 | provideniya\n",
      "Processing record 145 of Set 1 | mongoumba\n",
      "Processing record 146 of Set 1 | buzuluk\n",
      "Processing record 147 of Set 1 | faanui\n",
      "Processing record 148 of Set 1 | cape town\n",
      "Processing record 149 of Set 1 | cabedelo\n",
      "Processing record 150 of Set 1 | anadyr\n",
      "Processing record 151 of Set 1 | yellowknife\n",
      "Processing record 152 of Set 1 | bethel\n",
      "Processing record 153 of Set 1 | suntar\n",
      "Processing record 154 of Set 1 | la rioja\n",
      "Processing record 155 of Set 1 | richards bay\n",
      "Processing record 156 of Set 1 | aksu\n",
      "Processing record 157 of Set 1 | bad windsheim\n",
      "Processing record 158 of Set 1 | saint-augustin\n",
      "Processing record 159 of Set 1 | marzuq\n",
      "Processing record 160 of Set 1 | herat\n",
      "Processing record 161 of Set 1 | guerrero negro\n",
      "Processing record 162 of Set 1 | bridlington\n",
      "Processing record 163 of Set 1 | flinders\n",
      "Processing record 164 of Set 1 | esmeraldas\n",
      "Processing record 165 of Set 1 | saldanha\n",
      "Processing record 166 of Set 1 | mandalgovi\n",
      "Processing record 167 of Set 1 | ahipara\n",
      "Processing record 168 of Set 1 | bambous virieux\n",
      "Processing record 169 of Set 1 | price\n",
      "Processing record 170 of Set 1 | sorong\n",
      "Processing record 171 of Set 1 | victoria\n",
      "Processing record 172 of Set 1 | sandakan\n",
      "Processing record 173 of Set 1 | svetlaya\n",
      "Processing record 174 of Set 1 | kamenka\n",
      "Processing record 175 of Set 1 | bogande\n",
      "Processing record 176 of Set 1 | teya\n",
      "Processing record 177 of Set 1 | merauke\n",
      "Processing record 178 of Set 1 | itarema\n",
      "Processing record 179 of Set 1 | atbasar\n",
      "Processing record 180 of Set 1 | narsaq\n",
      "Processing record 181 of Set 1 | oranjemund\n",
      "Processing record 182 of Set 1 | zanjan\n",
      "Processing record 183 of Set 1 | sitka\n",
      "Processing record 184 of Set 1 | lata\n",
      "Processing record 185 of Set 1 | klaksvik\n",
      "Processing record 186 of Set 1 | visby\n",
      "Processing record 187 of Set 1 | viedma\n",
      "Processing record 188 of Set 1 | wasilla\n",
      "Processing record 189 of Set 1 | lorengau\n",
      "Processing record 190 of Set 1 | tulsipur\n",
      "Processing record 191 of Set 1 | villa de cura\n",
      "Processing record 192 of Set 1 | yubileynyy\n",
      "Processing record 193 of Set 1 | thinadhoo\n",
      "Processing record 194 of Set 1 | matagami\n",
      "Processing record 195 of Set 1 | bubaque\n",
      "Processing record 196 of Set 1 | biak\n",
      "Processing record 197 of Set 1 | florianopolis\n"
     ]
    },
    {
     "name": "stdout",
     "output_type": "stream",
     "text": [
      "Processing record 198 of Set 1 | redmond\n",
      "Processing record 199 of Set 1 | yashkul\n",
      "Processing record 200 of Set 1 | zyryanka\n",
      "Processing record 201 of Set 1 | lompoc\n",
      "Processing record 202 of Set 1 | hearst\n",
      "Processing record 203 of Set 1 | oum hadjer\n",
      "Processing record 204 of Set 1 | palaiokomi\n",
      "Processing record 205 of Set 1 | fare\n",
      "Processing record 206 of Set 1 | ben tre\n",
      "Processing record 207 of Set 1 | tzucacab\n",
      "Processing record 208 of Set 1 | kyrylivka\n",
      "Processing record 209 of Set 1 | nouadhibou\n",
      "Processing record 210 of Set 1 | sao filipe\n",
      "Processing record 211 of Set 1 | amapa\n",
      "Processing record 212 of Set 1 | namatanai\n",
      "Processing record 213 of Set 1 | yar-sale\n",
      "Processing record 214 of Set 1 | the valley\n",
      "Processing record 215 of Set 1 | carnarvon\n",
      "Processing record 216 of Set 1 | opochka\n",
      "Processing record 217 of Set 1 | sarakhs\n",
      "Processing record 218 of Set 1 | anamur\n",
      "Processing record 219 of Set 1 | san quintin\n",
      "Processing record 220 of Set 1 | coihaique\n",
      "Processing record 221 of Set 1 | ancud\n",
      "Processing record 222 of Set 1 | ridgecrest\n",
      "Processing record 223 of Set 1 | sao fidelis\n",
      "Processing record 224 of Set 1 | goderich\n",
      "Processing record 225 of Set 1 | kavaratti\n",
      "Processing record 226 of Set 1 | chapais\n",
      "Processing record 227 of Set 1 | castro\n",
      "Processing record 228 of Set 1 | menongue\n",
      "Processing record 229 of Set 1 | petropavlovsk-kamchatskiy\n",
      "Processing record 230 of Set 1 | longyearbyen\n",
      "Processing record 231 of Set 1 | sosnovo\n",
      "Processing record 232 of Set 1 | kodiak\n",
      "Processing record 233 of Set 1 | chuy\n",
      "Processing record 234 of Set 1 | husavik\n",
      "Processing record 235 of Set 1 | coos bay\n",
      "Processing record 236 of Set 1 | tsiroanomandidy\n",
      "Processing record 237 of Set 1 | raudeberg\n",
      "Processing record 238 of Set 1 | sibolga\n",
      "Processing record 239 of Set 1 | dunedin\n",
      "Processing record 240 of Set 1 | curup\n",
      "Processing record 241 of Set 1 | imperia\n",
      "Processing record 242 of Set 1 | mucuri\n",
      "Processing record 243 of Set 1 | wawa\n",
      "Processing record 244 of Set 1 | sa kaeo\n",
      "Processing record 245 of Set 1 | mana\n",
      "Processing record 246 of Set 1 | kidal\n",
      "Processing record 247 of Set 1 | cayenne\n",
      "Processing record 248 of Set 1 | rawson\n",
      "Processing record 249 of Set 1 | mayo\n",
      "Processing record 250 of Set 1 | nome\n",
      "Processing record 251 of Set 1 | severo-kurilsk\n",
      "Processing record 252 of Set 1 | axim\n",
      "Processing record 253 of Set 1 | tasiilaq\n",
      "Processing record 254 of Set 1 | iqaluit\n",
      "Processing record 255 of Set 1 | faya\n",
      "Processing record 256 of Set 1 | hwange\n",
      "Processing record 257 of Set 1 | gubkinskiy\n",
      "Processing record 258 of Set 1 | cherskiy\n",
      "Processing record 259 of Set 1 | concepcion del uruguay\n",
      "Processing record 260 of Set 1 | mahibadhoo\n",
      "Processing record 261 of Set 1 | ergani\n",
      "Processing record 262 of Set 1 | padang\n",
      "Processing record 263 of Set 1 | hay river\n",
      "Processing record 264 of Set 1 | cardston\n",
      "Processing record 265 of Set 1 | emmett\n",
      "Processing record 266 of Set 1 | tigil\n",
      "Processing record 267 of Set 1 | zhanaozen\n",
      "Processing record 268 of Set 1 | hit\n",
      "Processing record 269 of Set 1 | iquitos\n",
      "Processing record 270 of Set 1 | fort-shevchenko\n",
      "Processing record 271 of Set 1 | zyryanovsk\n",
      "Processing record 272 of Set 1 | havre-saint-pierre\n",
      "Processing record 273 of Set 1 | tulghes\n",
      "Processing record 274 of Set 1 | nyurba\n",
      "Processing record 275 of Set 1 | karasburg\n",
      "Processing record 276 of Set 1 | hithadhoo\n",
      "Processing record 277 of Set 1 | hovd\n",
      "Processing record 278 of Set 1 | mwene-ditu\n",
      "Processing record 279 of Set 1 | ostrovnoy\n",
      "Processing record 280 of Set 1 | nelson bay\n",
      "Processing record 281 of Set 1 | sagar\n",
      "Processing record 282 of Set 1 | soanierana ivongo\n",
      "Processing record 283 of Set 1 | naze\n",
      "Processing record 284 of Set 1 | xuanhua\n",
      "Processing record 285 of Set 1 | inirida\n",
      "Processing record 286 of Set 1 | geraldton\n",
      "Processing record 287 of Set 1 | cockburn town\n",
      "Processing record 288 of Set 1 | bobcaygeon\n",
      "Processing record 289 of Set 1 | achacachi\n",
      "Processing record 290 of Set 1 | portland\n",
      "Processing record 291 of Set 1 | moranbah\n",
      "Processing record 292 of Set 1 | kuliyapitiya\n",
      "Processing record 293 of Set 1 | komsomolskiy\n",
      "Processing record 294 of Set 1 | gizo\n",
      "Processing record 295 of Set 1 | south valley\n",
      "Processing record 296 of Set 1 | shimanovsk\n",
      "Processing record 297 of Set 1 | midland\n",
      "Processing record 298 of Set 1 | clyde river\n",
      "Processing record 299 of Set 1 | roald\n",
      "Processing record 300 of Set 1 | riyadh\n",
      "Processing record 301 of Set 1 | ganzhou\n",
      "Processing record 302 of Set 1 | liverpool\n",
      "Processing record 303 of Set 1 | nioro\n",
      "Processing record 304 of Set 1 | kilindoni\n",
      "Processing record 305 of Set 1 | hambantota\n",
      "Processing record 306 of Set 1 | vostok\n",
      "Processing record 307 of Set 1 | borgarnes\n",
      "Processing record 308 of Set 1 | caravelas\n",
      "Processing record 309 of Set 1 | lagos\n",
      "Processing record 310 of Set 1 | bintulu\n",
      "Processing record 311 of Set 1 | lagoa\n",
      "Processing record 312 of Set 1 | kununurra\n",
      "Processing record 313 of Set 1 | duku\n",
      "Processing record 314 of Set 1 | hamilton\n",
      "Processing record 315 of Set 1 | grong\n",
      "Processing record 316 of Set 1 | suhbaatar\n",
      "Processing record 317 of Set 1 | dori\n",
      "Processing record 318 of Set 1 | mountain home\n",
      "Processing record 319 of Set 1 | morant bay\n",
      "Processing record 320 of Set 1 | isangel\n",
      "Processing record 321 of Set 1 | beaver falls\n",
      "Processing record 322 of Set 1 | zherdevka\n",
      "Processing record 323 of Set 1 | saint-pierre\n",
      "Processing record 324 of Set 1 | bilibino\n",
      "Processing record 325 of Set 1 | dudinka\n",
      "Processing record 326 of Set 1 | trinidad\n",
      "Processing record 327 of Set 1 | chimore\n",
      "Processing record 328 of Set 1 | sao felix do xingu\n",
      "Processing record 329 of Set 1 | gobabis\n",
      "Processing record 330 of Set 1 | avera\n",
      "Processing record 331 of Set 1 | gaoual\n",
      "Processing record 332 of Set 1 | denpasar\n",
      "Processing record 333 of Set 1 | rafraf\n",
      "Processing record 334 of Set 1 | urengoy\n",
      "Processing record 335 of Set 1 | ramanuj ganj\n",
      "Processing record 336 of Set 1 | owando\n",
      "Processing record 337 of Set 1 | vilhena\n",
      "Processing record 338 of Set 1 | costesti\n",
      "Processing record 339 of Set 1 | meulaboh\n",
      "Processing record 340 of Set 1 | basoko\n",
      "Processing record 341 of Set 1 | taldan\n",
      "Processing record 342 of Set 1 | haines junction\n",
      "Processing record 343 of Set 1 | mabamba\n",
      "Processing record 344 of Set 1 | etchoropo\n",
      "Processing record 345 of Set 1 | ramos arizpe\n",
      "Processing record 346 of Set 1 | maceio\n",
      "Processing record 347 of Set 1 | djenne\n",
      "Processing record 348 of Set 1 | hlukhiv\n",
      "Processing record 349 of Set 1 | upata\n",
      "Processing record 350 of Set 1 | wuchang\n",
      "Processing record 351 of Set 1 | voi\n",
      "Processing record 352 of Set 1 | dezhou\n",
      "Processing record 353 of Set 1 | angren\n",
      "Processing record 354 of Set 1 | cap malheureux\n",
      "Processing record 355 of Set 1 | vaitape\n",
      "Processing record 356 of Set 1 | behbahan\n",
      "Processing record 357 of Set 1 | taoudenni\n",
      "Processing record 358 of Set 1 | marawi\n",
      "Processing record 359 of Set 1 | doha\n",
      "Processing record 360 of Set 1 | laon\n",
      "Processing record 361 of Set 1 | bagan\n",
      "Processing record 362 of Set 1 | ostersund\n",
      "Processing record 363 of Set 1 | nacala\n",
      "Processing record 364 of Set 1 | ukiah\n",
      "Processing record 365 of Set 1 | oleksandrivka\n",
      "Processing record 366 of Set 1 | vila velha\n",
      "Processing record 367 of Set 1 | hirado\n",
      "Processing record 368 of Set 1 | whitianga\n",
      "Processing record 369 of Set 1 | ust-maya\n",
      "Processing record 370 of Set 1 | vestmannaeyjar\n",
      "Processing record 371 of Set 1 | turukhansk\n",
      "Processing record 372 of Set 1 | tuktoyaktuk\n",
      "Processing record 373 of Set 1 | caceres\n",
      "Processing record 374 of Set 1 | kavieng\n",
      "Processing record 375 of Set 1 | wamba\n",
      "Processing record 376 of Set 1 | benghazi\n",
      "Processing record 377 of Set 1 | praya\n",
      "Processing record 378 of Set 1 | danshui\n",
      "Processing record 379 of Set 1 | goundam\n",
      "Processing record 380 of Set 1 | namie\n",
      "Processing record 381 of Set 1 | altay\n",
      "Processing record 382 of Set 1 | avenal\n",
      "Processing record 383 of Set 1 | guozhen\n",
      "Processing record 384 of Set 1 | poum\n",
      "Processing record 385 of Set 1 | nabire\n",
      "Processing record 386 of Set 1 | aasiaat\n",
      "Processing record 387 of Set 1 | kaminoyama\n",
      "Processing record 388 of Set 1 | norman wells\n",
      "Processing record 389 of Set 1 | kuching\n",
      "Processing record 390 of Set 1 | bolu\n",
      "Processing record 391 of Set 1 | kahului\n",
      "Processing record 392 of Set 1 | buala\n",
      "Processing record 393 of Set 1 | truth or consequences\n",
      "Processing record 394 of Set 1 | srednekolymsk\n",
      "Processing record 395 of Set 1 | vynohradove\n",
      "Processing record 396 of Set 1 | egvekinot\n"
     ]
    },
    {
     "name": "stdout",
     "output_type": "stream",
     "text": [
      "Processing record 397 of Set 1 | broken arrow\n",
      "Processing record 398 of Set 1 | mount darwin\n",
      "Processing record 399 of Set 1 | abnub\n",
      "Processing record 400 of Set 1 | broome\n",
      "Processing record 401 of Set 1 | ngunguru\n",
      "Processing record 402 of Set 1 | cururupu\n",
      "Processing record 403 of Set 1 | college\n",
      "Processing record 404 of Set 1 | taltal\n",
      "Processing record 405 of Set 1 | auki\n",
      "Processing record 406 of Set 1 | orlik\n",
      "Processing record 407 of Set 1 | lerwick\n",
      "Processing record 408 of Set 1 | bulaevo\n",
      "Processing record 409 of Set 1 | puerto escondido\n",
      "Processing record 410 of Set 1 | ginda\n",
      "Processing record 411 of Set 1 | brainerd\n",
      "Processing record 412 of Set 1 | pangody\n",
      "Processing record 413 of Set 1 | brookings\n",
      "Processing record 414 of Set 1 | souillac\n",
      "Processing record 415 of Set 1 | golkoy\n",
      "Processing record 416 of Set 1 | nikel\n",
      "Processing record 417 of Set 1 | jalu\n",
      "Processing record 418 of Set 1 | honningsvag\n",
      "Processing record 419 of Set 1 | itoman\n",
      "Processing record 420 of Set 1 | port moresby\n",
      "Processing record 421 of Set 1 | pangai\n",
      "Processing record 422 of Set 1 | santa vitoria do palmar\n",
      "Processing record 423 of Set 1 | half moon bay\n",
      "Processing record 424 of Set 1 | tatarsk\n",
      "Processing record 425 of Set 1 | antofagasta\n",
      "Processing record 426 of Set 1 | kaeo\n",
      "Processing record 427 of Set 1 | preobrazheniye\n",
      "Processing record 428 of Set 1 | monrovia\n",
      "Processing record 429 of Set 1 | reforma\n",
      "Processing record 430 of Set 1 | san ramon\n",
      "Processing record 431 of Set 1 | carballo\n",
      "Processing record 432 of Set 1 | jaffna\n",
      "Processing record 433 of Set 1 | amahai\n",
      "Processing record 434 of Set 1 | zapolyarnyy\n",
      "Processing record 435 of Set 1 | port hope\n",
      "Processing record 436 of Set 1 | shimoda\n",
      "Processing record 437 of Set 1 | aklavik\n",
      "Processing record 438 of Set 1 | hegang\n",
      "Processing record 439 of Set 1 | port hedland\n",
      "Processing record 440 of Set 1 | yuksekova\n",
      "Processing record 441 of Set 1 | manta\n",
      "Processing record 442 of Set 1 | balagansk\n",
      "Processing record 443 of Set 1 | wattegama\n",
      "Processing record 444 of Set 1 | khandyga\n",
      "Processing record 445 of Set 1 | cluny\n",
      "akyab has incomplete data, removing city\n",
      "Processing record 447 of Set 1 | coahuayana\n",
      "Processing record 448 of Set 1 | qaqortoq\n",
      "Processing record 449 of Set 1 | pitimbu\n",
      "Processing record 450 of Set 1 | byron bay\n",
      "Processing record 451 of Set 1 | muisne\n",
      "Processing record 452 of Set 1 | ambagarh chauki\n",
      "Processing record 453 of Set 1 | aguimes\n",
      "lolua has incomplete data, removing city\n",
      "Processing record 455 of Set 1 | wana\n",
      "Processing record 456 of Set 1 | zhangjiakou\n",
      "Processing record 457 of Set 1 | akcaabat\n",
      "Processing record 458 of Set 1 | praia da vitoria\n",
      "Processing record 459 of Set 1 | ilo\n",
      "Processing record 460 of Set 1 | inuvik\n",
      "Processing record 461 of Set 1 | mongo\n",
      "Processing record 462 of Set 1 | issaquah\n",
      "Processing record 463 of Set 1 | plettenberg bay\n",
      "Processing record 464 of Set 1 | hailin\n",
      "Processing record 465 of Set 1 | podporozhye\n",
      "Processing record 466 of Set 1 | high prairie\n",
      "Processing record 467 of Set 1 | manzanillo\n",
      "Processing record 468 of Set 1 | vanimo\n",
      "Processing record 469 of Set 1 | uruzgan\n",
      "Processing record 470 of Set 1 | manokwari\n",
      "Processing record 471 of Set 1 | orocue\n",
      "Processing record 472 of Set 1 | luderitz\n",
      "Processing record 473 of Set 1 | yichang\n",
      "Processing record 474 of Set 1 | kudahuvadhoo\n",
      "Processing record 475 of Set 1 | shieli\n",
      "Processing record 476 of Set 1 | bandar\n",
      "Processing record 477 of Set 1 | dwarka\n",
      "Processing record 478 of Set 1 | bukama\n",
      "Processing record 479 of Set 1 | mareeba\n",
      "Processing record 480 of Set 1 | neryungri\n",
      "Processing record 481 of Set 1 | dodge city\n",
      "Processing record 482 of Set 1 | cap-aux-meules\n",
      "Processing record 483 of Set 1 | vila franca do campo\n",
      "Processing record 484 of Set 1 | umm kaddadah\n",
      "Processing record 485 of Set 1 | suez\n",
      "Processing record 486 of Set 1 | mugur-aksy\n",
      "Processing record 487 of Set 1 | middelburg\n",
      "Processing record 488 of Set 1 | xining\n",
      "Processing record 489 of Set 1 | moralillo\n",
      "Processing record 490 of Set 1 | sao joao da barra\n",
      "Processing record 491 of Set 1 | antigonish\n",
      "Processing record 492 of Set 1 | fortuna\n",
      "Processing record 493 of Set 1 | new city\n",
      "Processing record 494 of Set 1 | mount pleasant\n",
      "Processing record 495 of Set 1 | tecpan\n",
      "Processing record 496 of Set 1 | hami\n",
      "Processing record 497 of Set 1 | ternate\n",
      "Processing record 498 of Set 1 | sept-iles\n",
      "Processing record 499 of Set 1 | simpang\n",
      "Processing record 500 of Set 1 | nizwa\n",
      "Processing record 501 of Set 1 | zaykovo\n",
      "Processing record 502 of Set 1 | port hardy\n",
      "Processing record 503 of Set 1 | mehamn\n",
      "Processing record 504 of Set 1 | wukari\n",
      "Processing record 505 of Set 1 | buraydah\n",
      "Processing record 506 of Set 1 | abha\n",
      "Processing record 507 of Set 1 | greenville\n",
      "Processing record 508 of Set 1 | psebay\n",
      "Processing record 509 of Set 1 | bara\n",
      "Processing record 510 of Set 1 | wilmington\n",
      "Processing record 511 of Set 1 | pandan\n",
      "Processing record 512 of Set 1 | la asuncion\n",
      "Processing record 513 of Set 1 | kailua\n",
      "Processing record 514 of Set 1 | tilichiki\n",
      "Processing record 515 of Set 1 | haifa\n",
      "Processing record 516 of Set 1 | leshukonskoye\n",
      "Processing record 517 of Set 1 | whitehorse\n",
      "Processing record 518 of Set 1 | boali\n",
      "Processing record 519 of Set 1 | tchollire\n",
      "Processing record 520 of Set 1 | bereda\n",
      "Processing record 521 of Set 1 | dawei\n",
      "Processing record 522 of Set 1 | carai\n",
      "Processing record 523 of Set 1 | saint augustine\n",
      "Processing record 524 of Set 1 | kangaatsiaq\n",
      "Processing record 525 of Set 1 | puerto carreno\n",
      "Processing record 526 of Set 1 | elk plain\n",
      "Processing record 527 of Set 1 | andilamena\n",
      "Processing record 528 of Set 1 | umm lajj\n",
      "Processing record 529 of Set 1 | kosa\n",
      "Processing record 530 of Set 1 | yerofey pavlovich\n",
      "Processing record 531 of Set 1 | atar\n",
      "Processing record 532 of Set 1 | meadow lake\n",
      "Processing record 533 of Set 1 | berlevag\n",
      "Processing record 534 of Set 1 | kota kinabalu\n",
      "Processing record 535 of Set 1 | laguna\n",
      "Processing record 536 of Set 1 | los llanos de aridane\n",
      "Processing record 537 of Set 1 | cidreira\n",
      "Processing record 538 of Set 1 | sumbe\n",
      "Processing record 539 of Set 1 | la tuque\n",
      "Processing record 540 of Set 1 | marsabit\n",
      "Processing record 541 of Set 1 | altamira\n",
      "Processing record 542 of Set 1 | chenghai\n",
      "Processing record 543 of Set 1 | walvis bay\n",
      "Processing record 544 of Set 1 | adre\n",
      "Processing record 545 of Set 1 | lakatoro\n",
      "Processing record 546 of Set 1 | bahia blanca\n",
      "Processing record 547 of Set 1 | moindou\n",
      "Processing record 548 of Set 1 | gloucester\n",
      "Processing record 549 of Set 1 | loreto\n",
      "Processing record 550 of Set 1 | springbok\n"
     ]
    }
   ],
   "source": [
    "url = \"http://api.openweathermap.org/data/2.5/weather?\"\n",
    "units = \"imperial\"\n",
    "city_dict = []\n",
    "cloud = []\n",
    "country = []\n",
    "date = []\n",
    "humidity = []\n",
    "lat = []\n",
    "lon = []\n",
    "max_temp = []\n",
    "wind_spd = []\n",
    "\n",
    "print(\"Beginning Data Retrieval\")\n",
    "print(\"---------------------------\")\n",
    "\n",
    "for city in cities:\n",
    "    try:\n",
    "        city_response = requests.get(url + \"appid=\" + weather_api_key + \"&q=\" + city + \"&units=\" + units).json()\n",
    "        cloud_city = city_response[\"clouds\"][\"all\"]\n",
    "        country_city = city_response[\"sys\"][\"country\"]\n",
    "        date_city = city_response[\"dt\"]\n",
    "        humidity_city = city_response[\"main\"][\"humidity\"]\n",
    "        lat_city = city_response[\"coord\"][\"lat\"]\n",
    "        lon_city = city_response[\"coord\"][\"lon\"]\n",
    "        max_city = city_response[\"main\"][\"temp_max\"]\n",
    "        wind_city = city_response[\"wind\"][\"speed\"]\n",
    "        print(f\"Processing record {cities.index(city)+1} of Set 1 | {city}\")\n",
    "        city_dict.append(city)\n",
    "        cloud.append(cloud_city)\n",
    "        country.append(country_city)\n",
    "        date.append(date_city)\n",
    "        humidity.append(humidity_city)\n",
    "        lat.append(lat_city)\n",
    "        lon.append(lon_city)\n",
    "        max_temp.append(max_city)\n",
    "        wind_spd.append(wind_city)\n",
    "        time.sleep(1)\n",
    "    except KeyError:\n",
    "        print(f\"{city} has incomplete data, removing city\")"
   ]
  },
  {
   "cell_type": "code",
   "execution_count": 45,
   "metadata": {},
   "outputs": [
    {
     "name": "stdout",
     "output_type": "stream",
     "text": [
      "Cities 548\n",
      "Countries 548\n",
      "Date 548\n",
      "Lat 548\n"
     ]
    }
   ],
   "source": [
    "print(\"Cities\",len(city_dict))\n",
    "print(\"Countries\",len(country))\n",
    "print(\"Date\", len(date))\n",
    "print(\"Lat\",len(lat))\n"
   ]
  },
  {
   "cell_type": "markdown",
   "metadata": {},
   "source": [
    "### Convert Raw Data to DataFrame\n",
    "* Export the city data into a .csv.\n",
    "* Display the DataFrame"
   ]
  },
  {
   "cell_type": "code",
   "execution_count": 48,
   "metadata": {},
   "outputs": [
    {
     "data": {
      "text/html": [
       "<div>\n",
       "<style scoped>\n",
       "    .dataframe tbody tr th:only-of-type {\n",
       "        vertical-align: middle;\n",
       "    }\n",
       "\n",
       "    .dataframe tbody tr th {\n",
       "        vertical-align: top;\n",
       "    }\n",
       "\n",
       "    .dataframe thead th {\n",
       "        text-align: right;\n",
       "    }\n",
       "</style>\n",
       "<table border=\"1\" class=\"dataframe\">\n",
       "  <thead>\n",
       "    <tr style=\"text-align: right;\">\n",
       "      <th></th>\n",
       "      <th>City</th>\n",
       "      <th>Cloudiness</th>\n",
       "      <th>Country</th>\n",
       "      <th>Date</th>\n",
       "      <th>Humidity</th>\n",
       "      <th>Lat</th>\n",
       "      <th>Lng</th>\n",
       "      <th>Max Temp</th>\n",
       "      <th>Wind Speed</th>\n",
       "    </tr>\n",
       "  </thead>\n",
       "  <tbody>\n",
       "    <tr>\n",
       "      <th>0</th>\n",
       "      <td>bluff</td>\n",
       "      <td>0</td>\n",
       "      <td>AU</td>\n",
       "      <td>1569382354</td>\n",
       "      <td>33</td>\n",
       "      <td>-23.58</td>\n",
       "      <td>149.07</td>\n",
       "      <td>82.43</td>\n",
       "      <td>11.16</td>\n",
       "    </tr>\n",
       "    <tr>\n",
       "      <th>1</th>\n",
       "      <td>dikson</td>\n",
       "      <td>100</td>\n",
       "      <td>RU</td>\n",
       "      <td>1569382354</td>\n",
       "      <td>89</td>\n",
       "      <td>73.51</td>\n",
       "      <td>80.55</td>\n",
       "      <td>36.35</td>\n",
       "      <td>15.64</td>\n",
       "    </tr>\n",
       "    <tr>\n",
       "      <th>2</th>\n",
       "      <td>rikitea</td>\n",
       "      <td>0</td>\n",
       "      <td>PF</td>\n",
       "      <td>1569382354</td>\n",
       "      <td>65</td>\n",
       "      <td>-23.12</td>\n",
       "      <td>-134.97</td>\n",
       "      <td>71.09</td>\n",
       "      <td>3.18</td>\n",
       "    </tr>\n",
       "    <tr>\n",
       "      <th>3</th>\n",
       "      <td>ewa beach</td>\n",
       "      <td>40</td>\n",
       "      <td>US</td>\n",
       "      <td>1569382354</td>\n",
       "      <td>58</td>\n",
       "      <td>21.32</td>\n",
       "      <td>-158.01</td>\n",
       "      <td>86.00</td>\n",
       "      <td>10.29</td>\n",
       "    </tr>\n",
       "    <tr>\n",
       "      <th>4</th>\n",
       "      <td>emerald</td>\n",
       "      <td>40</td>\n",
       "      <td>AU</td>\n",
       "      <td>1569382354</td>\n",
       "      <td>37</td>\n",
       "      <td>-23.53</td>\n",
       "      <td>148.16</td>\n",
       "      <td>84.00</td>\n",
       "      <td>10.29</td>\n",
       "    </tr>\n",
       "  </tbody>\n",
       "</table>\n",
       "</div>"
      ],
      "text/plain": [
       "        City  Cloudiness Country        Date  Humidity    Lat     Lng  \\\n",
       "0      bluff           0      AU  1569382354        33 -23.58  149.07   \n",
       "1     dikson         100      RU  1569382354        89  73.51   80.55   \n",
       "2    rikitea           0      PF  1569382354        65 -23.12 -134.97   \n",
       "3  ewa beach          40      US  1569382354        58  21.32 -158.01   \n",
       "4    emerald          40      AU  1569382354        37 -23.53  148.16   \n",
       "\n",
       "   Max Temp  Wind Speed  \n",
       "0     82.43       11.16  \n",
       "1     36.35       15.64  \n",
       "2     71.09        3.18  \n",
       "3     86.00       10.29  \n",
       "4     84.00       10.29  "
      ]
     },
     "execution_count": 48,
     "metadata": {},
     "output_type": "execute_result"
    }
   ],
   "source": [
    "city_convert = {\"City\":city_dict,\n",
    "               \"Cloudiness\": cloud,\n",
    "               \"Country\": country,\n",
    "               \"Date\": date,\n",
    "               \"Humidity\": humidity,\n",
    "               \"Lat\": lat,\n",
    "               \"Lng\":lon,\n",
    "               \"Max Temp\":max_temp,\n",
    "               \"Wind Speed\": wind_spd}\n",
    "city_df = pd.DataFrame(city_convert)\n",
    "city_df.head()"
   ]
  },
  {
   "cell_type": "code",
   "execution_count": 49,
   "metadata": {},
   "outputs": [],
   "source": [
    "city_df.to_csv(output_data_file,index=False)"
   ]
  },
  {
   "cell_type": "markdown",
   "metadata": {},
   "source": [
    "### Plotting the Data\n",
    "* Use proper labeling of the plots using plot titles (including date of analysis) and axes labels.\n",
    "* Save the plotted figures as .pngs."
   ]
  },
  {
   "cell_type": "markdown",
   "metadata": {},
   "source": [
    "#### Latitude vs. Temperature Plot"
   ]
  },
  {
   "cell_type": "code",
   "execution_count": 116,
   "metadata": {
    "scrolled": true
   },
   "outputs": [
    {
     "name": "stdout",
     "output_type": "stream",
     "text": [
      "Observations:\n",
      "Max Temps are highest in the -20 to +20 Latitude range and trend lower as we move futher North and South\n"
     ]
    },
    {
     "data": {
      "image/png": "[encoded data removed]",
      "text/plain": [
       "<Figure size 432x288 with 1 Axes>"
      ]
     },
     "metadata": {
      "needs_background": "light"
     },
     "output_type": "display_data"
    }
   ],
   "source": [
    "#figure\n",
    "fig, ax1 = plt.subplots()\n",
    "#fig.set_size_inches(13, 10)\n",
    "\n",
    "#labels\n",
    "ax1.set_xlabel('Latitude')\n",
    "ax1.set_ylabel('Temperature')\n",
    "ax1.set_title('Latitude vs Temperature Plot (Sep 24, 2019)')\n",
    "ax1.set_xlim(city_df[\"Lat\"].min()-5,city_df[\"Lat\"].max()+5 )\n",
    "ax1.grid()\n",
    "\n",
    "#plot\n",
    "\n",
    "plt.scatter(city_df[\"Lat\"], city_df[\"Max Temp\"], c = \"blue\")\n",
    "plt.savefig(\"output_data/lat_temp.png\")\n",
    "\n",
    "print(\"Observations:\")\n",
    "print(\"Max Temps are highest in the -20 to +20 Latitude range and trend lower as we move futher North and South\")"
   ]
  },
  {
   "cell_type": "markdown",
   "metadata": {},
   "source": [
    "#### Latitude vs. Humidity Plot"
   ]
  },
  {
   "cell_type": "code",
   "execution_count": 117,
   "metadata": {},
   "outputs": [
    {
     "name": "stdout",
     "output_type": "stream",
     "text": [
      "Observations:\n",
      "No trend between Latitude and Humidity\n"
     ]
    },
    {
     "data": {
      "image/png": "[encoded data removed]",
      "text/plain": [
       "<Figure size 432x288 with 1 Axes>"
      ]
     },
     "metadata": {
      "needs_background": "light"
     },
     "output_type": "display_data"
    }
   ],
   "source": [
    "#figure\n",
    "fig, ax1 = plt.subplots()\n",
    "#fig.set_size_inches(13, 10)\n",
    "\n",
    "#labels\n",
    "ax1.set_xlabel('Latitude')\n",
    "ax1.set_ylabel('Humidity')\n",
    "ax1.set_title('Latitude vs Humidity Plot (Sep 24, 2019)')\n",
    "ax1.set_xlim(city_df[\"Lat\"].min()-5,city_df[\"Lat\"].max()+5 )\n",
    "ax1.grid()\n",
    "\n",
    "#plot\n",
    "\n",
    "plt.scatter(city_df[\"Lat\"], city_df[\"Humidity\"], c = \"blue\")\n",
    "plt.savefig(\"output_data/lat_hum.png\")\n",
    "\n",
    "print(\"Observations:\")\n",
    "print(\"No trend between Latitude and Humidity\")"
   ]
  },
  {
   "cell_type": "markdown",
   "metadata": {},
   "source": [
    "#### Latitude vs. Cloudiness Plot"
   ]
  },
  {
   "cell_type": "code",
   "execution_count": 118,
   "metadata": {},
   "outputs": [
    {
     "name": "stdout",
     "output_type": "stream",
     "text": [
      "Observations:\n",
      "No trend between Latitude and Cloudiness\n"
     ]
    },
    {
     "data": {
      "image/png": "[encoded data removed]",
      "text/plain": [
       "<Figure size 432x288 with 1 Axes>"
      ]
     },
     "metadata": {
      "needs_background": "light"
     },
     "output_type": "display_data"
    }
   ],
   "source": [
    "#figure\n",
    "fig, ax1 = plt.subplots()\n",
    "#fig.set_size_inches(13, 10)\n",
    "\n",
    "#labels\n",
    "ax1.set_xlabel('Latitude')\n",
    "ax1.set_ylabel('Cloudiness')\n",
    "ax1.set_title('Latitude vs Cloudiness Plot (Sep 24, 2019)')\n",
    "ax1.set_xlim(city_df[\"Lat\"].min()-5,city_df[\"Lat\"].max()+5 )\n",
    "ax1.grid()\n",
    "\n",
    "#plot\n",
    "\n",
    "plt.scatter(city_df[\"Lat\"], city_df[\"Cloudiness\"], c = \"blue\")\n",
    "plt.savefig(\"output_data/lat_cloud.png\")\n",
    "\n",
    "print(\"Observations:\")\n",
    "print(\"No trend between Latitude and Cloudiness\")"
   ]
  },
  {
   "cell_type": "markdown",
   "metadata": {},
   "source": [
    "#### Latitude vs. Wind Speed Plot"
   ]
  },
  {
   "cell_type": "code",
   "execution_count": 119,
   "metadata": {},
   "outputs": [
    {
     "name": "stdout",
     "output_type": "stream",
     "text": [
      "Observations:\n",
      "No trend between Latitude and Wind Speed\n"
     ]
    },
    {
     "data": {
      "image/png": "[encoded data removed]",
      "text/plain": [
       "<Figure size 432x288 with 1 Axes>"
      ]
     },
     "metadata": {
      "needs_background": "light"
     },
     "output_type": "display_data"
    }
   ],
   "source": [
    "#figure\n",
    "fig, ax1 = plt.subplots()\n",
    "#fig.set_size_inches(13, 10)\n",
    "\n",
    "#labels\n",
    "ax1.set_xlabel('Latitude')\n",
    "ax1.set_ylabel('Wind Speed')\n",
    "ax1.set_title('Latitude vs Wind Speed Plot (Sep 24, 2019)')\n",
    "ax1.set_xlim(city_df[\"Lat\"].min()-5,city_df[\"Lat\"].max()+5 )\n",
    "ax1.grid()\n",
    "\n",
    "#plot\n",
    "\n",
    "plt.scatter(city_df[\"Lat\"], city_df[\"Wind Speed\"], c = \"blue\")\n",
    "plt.savefig(\"output_data/lat_wind.png\")\n",
    "\n",
    "print(\"Observations:\")\n",
    "print(\"No trend between Latitude and Wind Speed\")"
   ]
  },
  {
   "cell_type": "markdown",
   "metadata": {},
   "source": [
    "## Linear Regression"
   ]
  },
  {
   "cell_type": "code",
   "execution_count": 86,
   "metadata": {},
   "outputs": [
    {
     "data": {
      "text/plain": [
       "'north_city_df'"
      ]
     },
     "execution_count": 86,
     "metadata": {},
     "output_type": "execute_result"
    }
   ],
   "source": [
    "hemi = \"north\"\n",
    "df = hemi+\"_city_df\"\n",
    "df\n"
   ]
  },
  {
   "cell_type": "code",
   "execution_count": 125,
   "metadata": {},
   "outputs": [],
   "source": [
    "# OPTIONAL: Create a function to create Linear Regression plots\n",
    "\n",
    "def chartfest(frame,vari):\n",
    "#figure\n",
    "    fig, ax1 = plt.subplots() \n",
    "    xval = frame[\"Lat\"]\n",
    "    yval = frame[vari]\n",
    "\n",
    "#labels\n",
    "    ax1.set_xlabel('Latitude')\n",
    "    ax1.set_ylabel(vari)\n",
    "    ax1.set_title(f'Latitude vs {vari} Plot (Sep 24, 2019)')\n",
    "    ax1.set_xlim(xval.min()-5,xval.max()+5)\n",
    "    ax1.grid()\n",
    "\n",
    "\n",
    "#plot\n",
    "    plt.scatter(xval, yval, c = \"blue\")\n",
    "\n",
    "#linear regression\n",
    "    (slope, intercept, rvalue, pvalue, stderr) = stats.linregress(xval, yval)\n",
    "    regress_values = xval * slope + intercept\n",
    "    line_eq = \"y = \" + str(round(slope,2)) + \"x +\" + str(round(intercept,2))\n",
    "    plt.plot(xval,regress_values,\"r-\")\n",
    "    print(line_eq)\n",
    "    print(f\"r={round(rvalue,2)}\")\n",
    "\n"
   ]
  },
  {
   "cell_type": "code",
   "execution_count": 124,
   "metadata": {},
   "outputs": [],
   "source": [
    "# Create Northern and Southern Hemisphere DataFrames\n",
    "north_city_df = city_df.loc[city_df[\"Lat\"]>0]\n",
    "south_city_df = city_df.loc[city_df[\"Lat\"]<0]"
   ]
  },
  {
   "cell_type": "markdown",
   "metadata": {},
   "source": [
    "####  Northern Hemisphere - Max Temp vs. Latitude Linear Regression"
   ]
  },
  {
   "cell_type": "code",
   "execution_count": 127,
   "metadata": {},
   "outputs": [
    {
     "name": "stdout",
     "output_type": "stream",
     "text": [
      "y = -0.72x +90.05\n",
      "r=-0.85\n",
      "\n",
      "Observations:\n",
      "Very strong negative relationship between Northern latitude and temperture with an r value of -0.85.\n",
      "The further you move North from the equator(latitude 0), the colder it will likely be.\n"
     ]
    },
    {
     "data": {
      "image/png": "[encoded data removed]",
      "text/plain": [
       "<Figure size 432x288 with 1 Axes>"
      ]
     },
     "metadata": {
      "needs_background": "light"
     },
     "output_type": "display_data"
    }
   ],
   "source": [
    "chartfest(north_city_df,\"Max Temp\")\n",
    "print()\n",
    "print(\"Observations:\")\n",
    "print(\"Very strong negative relationship between Northern latitude and temperture with an r value of -0.85.\")\n",
    "print(\"The further you move North from the equator(latitude 0), the colder it will likely be.\")\n",
    "\n",
    "plt.savefig(\"output_data/north_temp.png\")\n",
    "    "
   ]
  },
  {
   "cell_type": "markdown",
   "metadata": {},
   "source": [
    "####  Southern Hemisphere - Max Temp vs. Latitude Linear Regression"
   ]
  },
  {
   "cell_type": "code",
   "execution_count": 128,
   "metadata": {},
   "outputs": [
    {
     "name": "stdout",
     "output_type": "stream",
     "text": [
      "y = 0.61x +80.57\n",
      "r=0.68\n",
      "Observations:\n",
      "Strong positive relationship between Southern latitude and temperture with an r value of 0.61.\n",
      "The further you move South from the equator(latitude 0), the colder it will likely be.\n"
     ]
    },
    {
     "data": {
      "image/png": "[encoded data removed]",
      "text/plain": [
       "<Figure size 432x288 with 1 Axes>"
      ]
     },
     "metadata": {
      "needs_background": "light"
     },
     "output_type": "display_data"
    }
   ],
   "source": [
    "chartfest(south_city_df,\"Max Temp\")\n",
    "print(\"Observations:\")\n",
    "print(\"Strong positive relationship between Southern latitude and temperture with an r value of 0.61.\")\n",
    "print(\"The further you move South from the equator(latitude 0), the colder it will likely be.\")\n",
    "\n",
    "plt.savefig(\"output_data/south_temp.png\")"
   ]
  },
  {
   "cell_type": "markdown",
   "metadata": {},
   "source": [
    "####  Northern Hemisphere - Humidity (%) vs. Latitude Linear Regression"
   ]
  },
  {
   "cell_type": "code",
   "execution_count": 129,
   "metadata": {},
   "outputs": [
    {
     "name": "stdout",
     "output_type": "stream",
     "text": [
      "y = 0.06x +70.47\n",
      "r=0.06\n",
      "Observations:\n",
      "The r value of 0.06 implies no significant relationship between latitiude and humidity.\n"
     ]
    },
    {
     "data": {
      "image/png": "[encoded data removed]",
      "text/plain": [
       "<Figure size 432x288 with 1 Axes>"
      ]
     },
     "metadata": {
      "needs_background": "light"
     },
     "output_type": "display_data"
    }
   ],
   "source": [
    "chartfest(north_city_df,\"Humidity\")\n",
    "print(\"Observations:\")\n",
    "print(\"The r value of 0.06 implies no significant relationship between latitiude and humidity.\")\n",
    "plt.savefig(\"output_data/north_humid.png\")"
   ]
  },
  {
   "cell_type": "markdown",
   "metadata": {},
   "source": [
    "####  Southern Hemisphere - Humidity (%) vs. Latitude Linear Regression"
   ]
  },
  {
   "cell_type": "code",
   "execution_count": 130,
   "metadata": {},
   "outputs": [
    {
     "name": "stdout",
     "output_type": "stream",
     "text": [
      "y = 0.31x +76.2\n",
      "r=0.2\n",
      "Observations:\n",
      "The r value of 0.20 implies a very weak positive relationship between Southern latitiude and humidity.\n"
     ]
    },
    {
     "data": {
      "image/png": "[encoded data removed]",
      "text/plain": [
       "<Figure size 432x288 with 1 Axes>"
      ]
     },
     "metadata": {
      "needs_background": "light"
     },
     "output_type": "display_data"
    }
   ],
   "source": [
    "chartfest(south_city_df,\"Humidity\")\n",
    "print(\"Observations:\")\n",
    "print(\"The r value of 0.20 implies a very weak positive relationship between Southern latitiude and humidity.\")\n",
    "plt.savefig(\"output_data/south_humid.png\")"
   ]
  },
  {
   "cell_type": "markdown",
   "metadata": {},
   "source": [
    "####  Northern Hemisphere - Cloudiness (%) vs. Latitude Linear Regression"
   ]
  },
  {
   "cell_type": "code",
   "execution_count": 131,
   "metadata": {},
   "outputs": [
    {
     "name": "stdout",
     "output_type": "stream",
     "text": [
      "y = 0.09x +43.71\n",
      "r=0.05\n",
      "Observations:\n",
      "The r value of 0.05 implies no significant relationship between latitiude and humidity.\n"
     ]
    },
    {
     "data": {
      "image/png": "[encoded data removed]",
      "text/plain": [
       "<Figure size 432x288 with 1 Axes>"
      ]
     },
     "metadata": {
      "needs_background": "light"
     },
     "output_type": "display_data"
    }
   ],
   "source": [
    "chartfest(north_city_df,\"Cloudiness\")\n",
    "print(\"Observations:\")\n",
    "print(\"The r value of 0.05 implies no significant relationship between latitiude and humidity.\")\n",
    "plt.savefig(\"output_data/north_cloud.png\")"
   ]
  },
  {
   "cell_type": "markdown",
   "metadata": {},
   "source": [
    "####  Southern Hemisphere - Cloudiness (%) vs. Latitude Linear Regression"
   ]
  },
  {
   "cell_type": "code",
   "execution_count": 132,
   "metadata": {},
   "outputs": [
    {
     "name": "stdout",
     "output_type": "stream",
     "text": [
      "y = 0.23x +45.05\n",
      "r=0.08\n",
      "Observations:\n",
      "The r value of 0.08 implies no significant relationship between latitiude and humidity.\n"
     ]
    },
    {
     "data": {
      "image/png": "[encoded data removed]",
      "text/plain": [
       "<Figure size 432x288 with 1 Axes>"
      ]
     },
     "metadata": {
      "needs_background": "light"
     },
     "output_type": "display_data"
    }
   ],
   "source": [
    "chartfest(south_city_df,\"Cloudiness\")\n",
    "print(\"Observations:\")\n",
    "print(\"The r value of 0.08 implies no significant relationship between latitiude and humidity.\")\n",
    "plt.savefig(\"output_data/south_cloud.png\")"
   ]
  },
  {
   "cell_type": "markdown",
   "metadata": {},
   "source": [
    "####  Northern Hemisphere - Wind Speed (mph) vs. Latitude Linear Regression"
   ]
  },
  {
   "cell_type": "code",
   "execution_count": 133,
   "metadata": {},
   "outputs": [
    {
     "name": "stdout",
     "output_type": "stream",
     "text": [
      "y = 0.06x +5.04\n",
      "r=0.26\n",
      "Observations:\n",
      "The r value of 0.26 implies a very weak positive relationship between Northern latitiude and wind speed.\n",
      "Wind speeds could be slightly higher as you move North from the equator\n"
     ]
    },
    {
     "data": {
      "image/png": "[encoded data removed]",
      "text/plain": [
       "<Figure size 432x288 with 1 Axes>"
      ]
     },
     "metadata": {
      "needs_background": "light"
     },
     "output_type": "display_data"
    }
   ],
   "source": [
    "chartfest(north_city_df,\"Wind Speed\")\n",
    "print(\"Observations:\")\n",
    "print(\"The r value of 0.26 implies a very weak positive relationship between Northern latitiude and wind speed.\")\n",
    "print(\"Wind speeds could be slightly higher as you move North from the equator\")\n",
    "plt.savefig(\"output_data/north_wind.png\")\n"
   ]
  },
  {
   "cell_type": "markdown",
   "metadata": {},
   "source": [
    "####  Southern Hemisphere - Wind Speed (mph) vs. Latitude Linear Regression"
   ]
  },
  {
   "cell_type": "code",
   "execution_count": 134,
   "metadata": {},
   "outputs": [
    {
     "name": "stdout",
     "output_type": "stream",
     "text": [
      "y = -0.1x +6.77\n",
      "r=-0.2\n",
      "Observations:\n",
      "The r value of -0.2 implies a very weak negative relationship between Southern latitiude and wind speed.\n",
      "Wind speeds could be slightly higher as you move South from the equator\n"
     ]
    },
    {
     "data": {
      "image/png": "[encoded data removed]",
      "text/plain": [
       "<Figure size 432x288 with 1 Axes>"
      ]
     },
     "metadata": {
      "needs_background": "light"
     },
     "output_type": "display_data"
    }
   ],
   "source": [
    "chartfest(south_city_df,\"Wind Speed\")\n",
    "print(\"Observations:\")\n",
    "print(\"The r value of -0.2 implies a very weak negative relationship between Southern latitiude and wind speed.\")\n",
    "print(\"Wind speeds could be slightly higher as you move South from the equator\")\n",
    "plt.savefig(\"output_data/south_wind.png\")"
   ]
  },
  {
   "cell_type": "code",
   "execution_count": 2,
   "metadata": {},
   "outputs": [
    {
     "name": "stdout",
     "output_type": "stream",
     "text": [
      "THREE OBSERVABLE TRENDS\n",
      "------------------------\n",
      "1. There is a clear and strong relationship between the abolute value of Latitude and temperature.\n",
      "The closer the absolute value of Latitude is to zero, the hotter the max temperature.\n",
      "2. There is a very weak relationship between latitude and wind speed.\n",
      "The farther you move from the equator, wind speed shows a small tendency to increase.\n",
      "3. There is no relationship between Latitude and Cloudiness or between Latitude and Humidity\n"
     ]
    }
   ],
   "source": [
    "print(\"THREE OBSERVABLE TRENDS\")\n",
    "print(\"------------------------\")\n",
    "print(\"1. There is a clear and strong relationship between the abolute value of Latitude and temperature.\")\n",
    "print(\"The closer the absolute value of Latitude is to zero, the hotter the max temperature.\")\n",
    "print(\"2. There is a very weak relationship between latitude and wind speed.\")\n",
    "print(\"The farther you move from the equator, wind speed shows a small tendency to increase.\")\n",
    "print(\"3. There is no relationship between Latitude and Cloudiness or between Latitude and Humidity\")\n"
   ]
  },
  {
   "cell_type": "code",
   "execution_count": null,
   "metadata": {},
   "outputs": [],
   "source": []
  }
 ],
 "metadata": {
  "anaconda-cloud": {},
  "kernel_info": {
   "name": "python3"
  },
  "kernelspec": {
   "display_name": "Python 3",
   "language": "python",
   "name": "python3"
  },
  "language_info": {
   "codemirror_mode": {
    "name": "ipython",
    "version": 3
   },
   "file_extension": ".py",
   "mimetype": "text/x-python",
   "name": "python",
   "nbconvert_exporter": "python",
   "pygments_lexer": "ipython3",
   "version": "3.7.3"
  },
  "latex_envs": {
   "LaTeX_envs_menu_present": true,
   "autoclose": false,
   "autocomplete": true,
   "bibliofile": "biblio.bib",
   "cite_by": "apalike",
   "current_citInitial": 1,
   "eqLabelWithNumbers": true,
   "eqNumInitial": 1,
   "hotkeys": {
    "equation": "Ctrl-E",
    "itemize": "Ctrl-I"
   },
   "labels_anchors": false,
   "latex_user_defs": false,
   "report_style_numbering": false,
   "user_envs_cfg": false
  },
  "nteract": {
   "version": "0.12.3"
  }
 },
 "nbformat": 4,
 "nbformat_minor": 2
}
